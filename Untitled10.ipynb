{
 "cells": [
  {
   "cell_type": "code",
   "execution_count": 1,
   "id": "6f054ba7",
   "metadata": {},
   "outputs": [
    {
     "name": "stdout",
     "output_type": "stream",
     "text": [
      "Prior Probability for class no: 0.5000\n",
      "Prior Probability for class yes: 0.5000\n"
     ]
    }
   ],
   "source": [
   
    "buys_computer_values = ['no', 'yes', 'no', 'yes', 'no', 'yes', 'yes', 'no', 'no', 'yes', 'yes', 'no', 'yes', 'yes', 'no', 'no', 'yes', 'no']\n",
    "\n",
    "total_instances = len(buys_computer_values)\n",
    "\n",
    "prior_probabilities = {}\n",
    "for class_value in set(buys_computer_values):\n",
    "    class_count = buys_computer_values.count(class_value)\n",
    "    prior_probabilities[class_value] = class_count / total_instances\n",
    "\n",
    "for class_value, prior_prob in prior_probabilities.items():\n",
    "    print(f'Prior Probability for class {class_value}: {prior_prob:.4f}')\n"
   ]
  },
  {
   "cell_type": "code",
   "execution_count": 2,
   "id": "f3d25497",
   "metadata": {},
   "outputs": [
    {
     "name": "stdout",
     "output_type": "stream",
     "text": [
      "Prior Probability for class no: 0.35714285714285715\n",
      "Prior Probability for class yes: 0.6428571428571429\n"
     ]
    }
   ],
   "source": [
    "\n",
    "data = [\n",
    "    ('<=30', 'high', 'no', 'fair', 'no'),\n",
    "    ('<=30', 'high', 'no', 'excellent', 'no'),\n",
    "    ('31...40', 'high', 'no', 'fair', 'yes'),\n",
    "    ('>40', 'medium', 'no', 'fair', 'yes' ),\n",
    "    ('>40', 'low', 'yes', 'fair', 'yes' ),\n",
    "    ('>40', 'low', 'yes', 'excellent', 'no' ),\n",
    "    ('31...40', 'low', 'yes', 'excellent', 'yes' ),\n",
    "    ('<=30', 'medium', 'no', 'fair', 'no' ),\n",
    "    ('<=30', 'low', 'yes', 'fair', 'yes' ),\n",
    "    ('>40', 'medium', 'yes', 'fair', 'yes' ),\n",
    "    ('<=30', 'medium', 'yes', 'excellent', 'yes' ),\n",
    "    ('31...40', 'medium', 'no', 'excellent', 'yes' ),\n",
    "    ('31...40', 'high', 'yes', 'fair', 'yes' ),\n",
    "    ('>40', 'medium', 'no', 'excellent', 'no' ),\n",
    "     \n",
    "]\n",
    "\n",
    "class_counts = {}\n",
    "total_instances = len(data)\n",
    "\n",
    "for instance in data:\n",
    "    class_label = instance[-1] \n",
    "    if class_label not in class_counts:\n",
    "        class_counts[class_label] = 1\n",
    "    else:\n",
    "        class_counts[class_label] += 1\n",
    "\n",
    "prior_probabilities = {}\n",
    "\n",
    "for class_label, count in class_counts.items():\n",
    "    prior_probabilities[class_label] = count / total_instances\n",
    "\n",
    "for class_label, probability in prior_probabilities.items():\n",
    "    print(f'Prior Probability for class {class_label}: {probability}')\n"
   ]
  },
  {
   "cell_type": "code",
   "execution_count": null,
   "id": "3d12c45f",
   "metadata": {},
   "outputs": [],
   "source": []
  }
 ],
 "metadata": {
  "kernelspec": {
   "display_name": "Python 3 (ipykernel)",
   "language": "python",
   "name": "python3"
  },
  "language_info": {
   "codemirror_mode": {
    "name": "ipython",
    "version": 3
   },
   "file_extension": ".py",
   "mimetype": "text/x-python",
   "name": "python",
   "nbconvert_exporter": "python",
   "pygments_lexer": "ipython3",
   "version": "3.11.4"
  }
 },
 "nbformat": 4,
 "nbformat_minor": 5
}
